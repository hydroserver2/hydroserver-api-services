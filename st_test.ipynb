{
 "cells": [
  {
   "cell_type": "code",
   "execution_count": 49,
   "metadata": {
    "collapsed": true
   },
   "outputs": [],
   "source": [
    "from pydantic import BaseModel\n",
    "from datetime import datetime\n",
    "from typing import Literal\n",
    "import geojson"
   ]
  },
  {
   "cell_type": "code",
   "execution_count": 46,
   "outputs": [],
   "source": [
    "class Thing(BaseModel):\n",
    "    name: str\n",
    "    description: str\n",
    "    properties: dict = {}\n",
    "    location: 'list[Location]' = []\n",
    "    historical_location: 'list[HistoricalLocation]' = []\n",
    "    datastream: 'list[Datastream]' = []\n",
    "\n",
    "\n",
    "locationEncodingTypes = Literal['application/geo+json']\n",
    "\n",
    "\n",
    "class Location(BaseModel):\n",
    "    name: str\n",
    "    description: str\n",
    "    encodingType: locationEncodingTypes\n",
    "    location: dict\n",
    "    properties: dict = {}\n",
    "    thing: list[Thing] = []\n",
    "    historical_location: 'list[HistoricalLocation]' = []\n",
    "\n",
    "\n",
    "class HistoricalLocation(BaseModel):\n",
    "    time: datetime\n",
    "    location: Location | None = None\n",
    "    thing: Thing\n",
    "\n",
    "\n",
    "observationTypes = Literal[\n",
    "    'http://www.opengis.net/def/observationType/OGC-OM/2.0/OM_CategoryObservation',\n",
    "    'http://www.opengis.net/def/observationType/OGC-OM/2.0/OM_CountObservation',\n",
    "    'http://www.opengis.net/def/observationType/OGC-OM/2.0/OM_Measurement',\n",
    "    'http://www.opengis.net/def/observationType/OGC-OM/2.0/OM_Observation',\n",
    "    'http://www.opengis.net/def/observationType/OGC-OM/2.0/OM_TruthObservation'\n",
    "]\n",
    "\n",
    "\n",
    "class Datastream(BaseModel):\n",
    "    name: str\n",
    "    description: str\n",
    "    unitOfMeasurement: dict\n",
    "    observationType: observationTypes\n",
    "    properties: dict = {}\n",
    "    observedArea: dict = {}\n",
    "    phenomenonTime: datetime | None = None\n",
    "    resultTime: datetime | None = None\n",
    "    thing: Thing\n",
    "    sensor: 'Sensor'\n",
    "    observed_property: 'ObservedProperty'\n",
    "    observation: 'list[Observation]' = []\n",
    "\n",
    "\n",
    "sensorEncodingTypes = Literal[\n",
    "    'application/pdf',\n",
    "    'http://www.opengis.net/doc/IS/SensorML/2.0',\n",
    "    'text/html'\n",
    "]\n",
    "\n",
    "\n",
    "class Sensor(BaseModel):\n",
    "    name: str\n",
    "    description: str\n",
    "    encodingType: sensorEncodingTypes\n",
    "    metadata: dict = {}\n",
    "    properties: dict = {}\n",
    "    datastream: list[Datastream] = []\n",
    "\n",
    "\n",
    "class ObservedProperty(BaseModel):\n",
    "    name: str\n",
    "    definition: str\n",
    "    description: str\n",
    "    properties: dict = {}\n",
    "    datastream: list[Datastream] = []\n",
    "\n",
    "\n",
    "class Observation(BaseModel):\n",
    "    phenomenonTime: datetime\n",
    "    result: str\n",
    "    resultTime: datetime\n",
    "    resultQuality: str | None = None\n",
    "    validTime: datetime | None = None\n",
    "    properties: dict = {}\n",
    "    datastream: Datastream\n",
    "    feature_of_interest: 'FeatureOfInterest'\n",
    "\n",
    "\n",
    "class FeatureOfInterest(BaseModel):\n",
    "    name: str\n",
    "    description: str\n",
    "    encodingType: locationEncodingTypes\n",
    "    feature: dict\n",
    "    properties: dict = {}\n",
    "    observation: list[Observation] = []\n"
   ],
   "metadata": {
    "collapsed": false
   }
  },
  {
   "cell_type": "code",
   "execution_count": 47,
   "outputs": [],
   "source": [
    "Thing.update_forward_refs()\n",
    "Location.update_forward_refs()\n",
    "Observation.update_forward_refs()"
   ],
   "metadata": {
    "collapsed": false
   }
  },
  {
   "cell_type": "code",
   "execution_count": 48,
   "outputs": [
    {
     "data": {
      "text/plain": "Thing(name='piano', description='This is a piano.', properties={}, location=[Location(name='Pasco', description='Pasco is a town in Washington State.', encodingType='application/geo+json', location={}, properties={}, thing=[], historical_location=[])], historical_location=[], datastream=[])"
     },
     "execution_count": 48,
     "metadata": {},
     "output_type": "execute_result"
    }
   ],
   "source": [
    "Thing(\n",
    "    name='piano',\n",
    "    description='This is a piano.',\n",
    "    location=[Location(\n",
    "        name='Pasco',\n",
    "        description='Pasco is a town in Washington State.',\n",
    "        encodingType='application/geo+json',\n",
    "        location={}\n",
    "    )]\n",
    ")"
   ],
   "metadata": {
    "collapsed": false
   }
  },
  {
   "cell_type": "code",
   "execution_count": null,
   "outputs": [],
   "source": [
    "engine = create_engine(\"sqlite:///\")"
   ],
   "metadata": {
    "collapsed": false
   }
  }
 ],
 "metadata": {
  "kernelspec": {
   "display_name": "Python 3",
   "language": "python",
   "name": "python3"
  },
  "language_info": {
   "codemirror_mode": {
    "name": "ipython",
    "version": 2
   },
   "file_extension": ".py",
   "mimetype": "text/x-python",
   "name": "python",
   "nbconvert_exporter": "python",
   "pygments_lexer": "ipython2",
   "version": "2.7.6"
  }
 },
 "nbformat": 4,
 "nbformat_minor": 0
}
